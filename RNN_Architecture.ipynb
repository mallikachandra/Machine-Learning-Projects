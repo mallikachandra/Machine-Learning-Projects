{
  "cells": [
    {
      "cell_type": "code",
      "source": [
        "pip install yfinance"
      ],
      "metadata": {
        "colab": {
          "base_uri": "https://localhost:8080/"
        },
        "id": "7MQqogSfKaMw",
        "outputId": "5527107a-ba13-4687-940d-b217135722f0"
      },
      "execution_count": null,
      "outputs": [
        {
          "output_type": "stream",
          "name": "stdout",
          "text": [
            "Looking in indexes: https://pypi.org/simple, https://us-python.pkg.dev/colab-wheels/public/simple/\n",
            "Collecting yfinance\n",
            "  Downloading yfinance-0.2.12-py2.py3-none-any.whl (59 kB)\n",
            "\u001b[2K     \u001b[90m━━━━━━━━━━━━━━━━━━━━━━━━━━━━━━━━━━━━━━━━\u001b[0m \u001b[32m59.2/59.2 KB\u001b[0m \u001b[31m2.6 MB/s\u001b[0m eta \u001b[36m0:00:00\u001b[0m\n",
            "\u001b[?25hCollecting cryptography>=3.3.2\n",
            "  Downloading cryptography-39.0.1-cp36-abi3-manylinux_2_28_x86_64.whl (4.2 MB)\n",
            "\u001b[2K     \u001b[90m━━━━━━━━━━━━━━━━━━━━━━━━━━━━━━━━━━━━━━━━\u001b[0m \u001b[32m4.2/4.2 MB\u001b[0m \u001b[31m41.3 MB/s\u001b[0m eta \u001b[36m0:00:00\u001b[0m\n",
            "\u001b[?25hRequirement already satisfied: lxml>=4.9.1 in /usr/local/lib/python3.8/dist-packages (from yfinance) (4.9.2)\n",
            "Collecting requests>=2.26\n",
            "  Downloading requests-2.28.2-py3-none-any.whl (62 kB)\n",
            "\u001b[2K     \u001b[90m━━━━━━━━━━━━━━━━━━━━━━━━━━━━━━━━━━━━━━━━\u001b[0m \u001b[32m62.8/62.8 KB\u001b[0m \u001b[31m3.5 MB/s\u001b[0m eta \u001b[36m0:00:00\u001b[0m\n",
            "\u001b[?25hCollecting beautifulsoup4>=4.11.1\n",
            "  Downloading beautifulsoup4-4.11.2-py3-none-any.whl (129 kB)\n",
            "\u001b[2K     \u001b[90m━━━━━━━━━━━━━━━━━━━━━━━━━━━━━━━━━━━━━━━\u001b[0m \u001b[32m129.4/129.4 KB\u001b[0m \u001b[31m7.5 MB/s\u001b[0m eta \u001b[36m0:00:00\u001b[0m\n",
            "\u001b[?25hCollecting html5lib>=1.1\n",
            "  Downloading html5lib-1.1-py2.py3-none-any.whl (112 kB)\n",
            "\u001b[2K     \u001b[90m━━━━━━━━━━━━━━━━━━━━━━━━━━━━━━━━━━━━━━━\u001b[0m \u001b[32m112.2/112.2 KB\u001b[0m \u001b[31m8.3 MB/s\u001b[0m eta \u001b[36m0:00:00\u001b[0m\n",
            "\u001b[?25hRequirement already satisfied: pytz>=2022.5 in /usr/local/lib/python3.8/dist-packages (from yfinance) (2022.7.1)\n",
            "Collecting frozendict>=2.3.4\n",
            "  Downloading frozendict-2.3.5-cp38-cp38-manylinux_2_17_x86_64.manylinux2014_x86_64.whl (111 kB)\n",
            "\u001b[2K     \u001b[90m━━━━━━━━━━━━━━━━━━━━━━━━━━━━━━━━━━━━━━━\u001b[0m \u001b[32m111.2/111.2 KB\u001b[0m \u001b[31m4.1 MB/s\u001b[0m eta \u001b[36m0:00:00\u001b[0m\n",
            "\u001b[?25hRequirement already satisfied: appdirs>=1.4.4 in /usr/local/lib/python3.8/dist-packages (from yfinance) (1.4.4)\n",
            "Requirement already satisfied: multitasking>=0.0.7 in /usr/local/lib/python3.8/dist-packages (from yfinance) (0.0.11)\n",
            "Requirement already satisfied: numpy>=1.16.5 in /usr/local/lib/python3.8/dist-packages (from yfinance) (1.22.4)\n",
            "Requirement already satisfied: pandas>=1.3.0 in /usr/local/lib/python3.8/dist-packages (from yfinance) (1.3.5)\n",
            "Collecting soupsieve>1.2\n",
            "  Downloading soupsieve-2.4-py3-none-any.whl (37 kB)\n",
            "Requirement already satisfied: cffi>=1.12 in /usr/local/lib/python3.8/dist-packages (from cryptography>=3.3.2->yfinance) (1.15.1)\n",
            "Requirement already satisfied: six>=1.9 in /usr/local/lib/python3.8/dist-packages (from html5lib>=1.1->yfinance) (1.15.0)\n",
            "Requirement already satisfied: webencodings in /usr/local/lib/python3.8/dist-packages (from html5lib>=1.1->yfinance) (0.5.1)\n",
            "Requirement already satisfied: python-dateutil>=2.7.3 in /usr/local/lib/python3.8/dist-packages (from pandas>=1.3.0->yfinance) (2.8.2)\n",
            "Requirement already satisfied: certifi>=2017.4.17 in /usr/local/lib/python3.8/dist-packages (from requests>=2.26->yfinance) (2022.12.7)\n",
            "Requirement already satisfied: idna<4,>=2.5 in /usr/local/lib/python3.8/dist-packages (from requests>=2.26->yfinance) (2.10)\n",
            "Requirement already satisfied: urllib3<1.27,>=1.21.1 in /usr/local/lib/python3.8/dist-packages (from requests>=2.26->yfinance) (1.26.14)\n",
            "Requirement already satisfied: charset-normalizer<4,>=2 in /usr/local/lib/python3.8/dist-packages (from requests>=2.26->yfinance) (3.0.1)\n",
            "Requirement already satisfied: pycparser in /usr/local/lib/python3.8/dist-packages (from cffi>=1.12->cryptography>=3.3.2->yfinance) (2.21)\n",
            "Installing collected packages: soupsieve, requests, html5lib, frozendict, cryptography, beautifulsoup4, yfinance\n",
            "  Attempting uninstall: requests\n",
            "    Found existing installation: requests 2.25.1\n",
            "    Uninstalling requests-2.25.1:\n",
            "      Successfully uninstalled requests-2.25.1\n",
            "  Attempting uninstall: html5lib\n",
            "    Found existing installation: html5lib 1.0.1\n",
            "    Uninstalling html5lib-1.0.1:\n",
            "      Successfully uninstalled html5lib-1.0.1\n",
            "  Attempting uninstall: beautifulsoup4\n",
            "    Found existing installation: beautifulsoup4 4.6.3\n",
            "    Uninstalling beautifulsoup4-4.6.3:\n",
            "      Successfully uninstalled beautifulsoup4-4.6.3\n",
            "Successfully installed beautifulsoup4-4.11.2 cryptography-39.0.1 frozendict-2.3.5 html5lib-1.1 requests-2.28.2 soupsieve-2.4 yfinance-0.2.12\n"
          ]
        }
      ]
    },
    {
      "cell_type": "code",
      "execution_count": null,
      "metadata": {
        "id": "Z9sYcDE-qV7z"
      },
      "outputs": [],
      "source": [
        "import yfinance as yf\n",
        "import numpy as np\n",
        "import pandas as pd\n",
        "from sklearn.preprocessing import MinMaxScaler\n",
        "from tensorflow.keras.models import Sequential\n",
        "from tensorflow.keras.layers import Dense, LSTM, Dropout"
      ]
    },
    {
      "cell_type": "markdown",
      "metadata": {
        "id": "6dJuZDx9qWeM"
      },
      "source": [
        "# Step 1: Importing Apple Stock Price from Yahoo Finance"
      ]
    },
    {
      "cell_type": "code",
      "execution_count": null,
      "metadata": {
        "colab": {
          "base_uri": "https://localhost:8080/"
        },
        "id": "Y3bcwJb4rp93",
        "outputId": "17fe1080-59ec-4744-d592-a79c3dfb8aff"
      },
      "outputs": [
        {
          "output_type": "stream",
          "name": "stdout",
          "text": [
            "\r[*********************100%***********************]  1 of 1 completed\n"
          ]
        }
      ],
      "source": [
        "# Importing Apple Stock Data\n",
        "stock_data = yf.download(\"AAPL\", start=\"1990-01-01\", end=\"2022-02-21\")\n",
        "\n",
        "# Preprocessing data\n",
        "scaled_data = np.array(stock_data[\"Close\"].pct_change().dropna()).reshape(-1,1)\n",
        "\n",
        "# Splitting data into training and test sets\n",
        "training_data_len = int(len(scaled_data) * 0.8)\n",
        "train_data = scaled_data[0:training_data_len, :]\n",
        "\n",
        "df_train = pd.DataFrame(train_data, columns=[\"Close\"])\n"
      ]
    },
    {
      "cell_type": "markdown",
      "metadata": {
        "id": "foHoGy9hq3_o"
      },
      "source": [
        "# 2.) Create your x_train/y_train data so that your RNN uses percentage change data to make a binary forecast where the stock moves up or down the next day\n",
        "# Build an RNN Architecture accordingly"
      ]
    },
    {
      "cell_type": "code",
      "source": [
        "x_tain = []\n",
        "y_train = []\n",
        "\n",
        "input_size = 1 \n",
        "x_train = np.empty((0, input_size))\n",
        "y_train = np.empty((0, 1))\n",
        "for i in range(input_size, len(train_data)):\n",
        "    x_train = np.concatenate((x_train, train_data[i-input_size:i, 0].reshape(1,-1)), axis=0)\n",
        "    if train_data[i, 0] > train_data[i-1, 0]:\n",
        "        y_train = np.concatenate((y_train, np.array([[1]])), axis=0) # y_train is 1 if stock price increased from previous day\n",
        "    else:\n",
        "        y_train = np.concatenate((y_train, np.array([[0]])), axis=0) # set y_train is 0 if stock price decreased or stayed the same from previous day\n",
        "\n",
        "x_train = np.reshape(x_train, (x_train.shape[0], x_train.shape[1], 1))\n"
      ],
      "metadata": {
        "id": "4JSjcokV5tcr"
      },
      "execution_count": null,
      "outputs": []
    },
    {
      "cell_type": "code",
      "source": [
        "# Build RNN architecture\n",
        "model = Sequential()\n",
        "model.add(LSTM(50, return_sequences=True, input_shape=(input_size, 1)))\n",
        "model.add(LSTM(50))\n",
        "model.add(Dense(1, activation='sigmoid'))\n",
        "\n",
        "# Compile the model\n",
        "model.compile(optimizer='adam', loss='binary_crossentropy', metrics=['accuracy'])\n",
        "\n",
        "# Fit the model\n",
        "model.fit(x_train, y_train, batch_size=32, epochs=10)\n"
      ],
      "metadata": {
        "colab": {
          "base_uri": "https://localhost:8080/"
        },
        "id": "Cme8yOGr7wpy",
        "outputId": "ec713a40-a1f2-4737-b93b-ffa28cf0f980"
      },
      "execution_count": null,
      "outputs": [
        {
          "output_type": "stream",
          "name": "stdout",
          "text": [
            "Epoch 1/10\n",
            "203/203 [==============================] - 4s 3ms/step - loss: 0.6832 - accuracy: 0.5658\n",
            "Epoch 2/10\n",
            "203/203 [==============================] - 1s 3ms/step - loss: 0.5707 - accuracy: 0.7180\n",
            "Epoch 3/10\n",
            "203/203 [==============================] - 1s 3ms/step - loss: 0.5318 - accuracy: 0.7322\n",
            "Epoch 4/10\n",
            "203/203 [==============================] - 1s 3ms/step - loss: 0.5291 - accuracy: 0.7352\n",
            "Epoch 5/10\n",
            "203/203 [==============================] - 1s 3ms/step - loss: 0.5293 - accuracy: 0.7339\n",
            "Epoch 6/10\n",
            "203/203 [==============================] - 1s 4ms/step - loss: 0.5315 - accuracy: 0.7330\n",
            "Epoch 7/10\n",
            "203/203 [==============================] - 1s 4ms/step - loss: 0.5293 - accuracy: 0.7333\n",
            "Epoch 8/10\n",
            "203/203 [==============================] - 1s 4ms/step - loss: 0.5282 - accuracy: 0.7363\n",
            "Epoch 9/10\n",
            "203/203 [==============================] - 1s 3ms/step - loss: 0.5284 - accuracy: 0.7369\n",
            "Epoch 10/10\n",
            "203/203 [==============================] - 1s 3ms/step - loss: 0.5281 - accuracy: 0.7364\n"
          ]
        },
        {
          "output_type": "execute_result",
          "data": {
            "text/plain": [
              "<keras.callbacks.History at 0x7fa1f1305c40>"
            ]
          },
          "metadata": {},
          "execution_count": 6
        }
      ]
    },
    {
      "cell_type": "code",
      "execution_count": null,
      "metadata": {
        "id": "p3BlSFA8Na77"
      },
      "outputs": [],
      "source": []
    },
    {
      "cell_type": "markdown",
      "metadata": {
        "id": "yFhO9vMjsWPk"
      },
      "source": [
        "# 3.) Test your model and compare insample Accurracy, insample random walk assumption Accuracy, Out of sample Accuracy and out of sample random walk assumption Accuracy using a bar chart"
      ]
    },
    {
      "cell_type": "code",
      "execution_count": null,
      "metadata": {
        "id": "r1Xj6Ji-rwnM",
        "colab": {
          "base_uri": "https://localhost:8080/"
        },
        "outputId": "7c62197c-5937-482e-ac91-e1fcacd4aaac"
      },
      "outputs": [
        {
          "output_type": "stream",
          "name": "stdout",
          "text": [
            "51/51 [==============================] - 1s 2ms/step\n"
          ]
        }
      ],
      "source": [
        "test_data = scaled_data[training_data_len - input_size:, :]\n",
        "\n",
        "x_test = []\n",
        "y_test = np.array(stock_data[[\"Close\"]].pct_change().dropna())[training_data_len:, :]\n",
        "for i in range(input_size, len(test_data)):\n",
        "    x_test.append(test_data[i-input_size:i, 0])\n",
        "\n",
        "x_test = np.array(x_test)\n",
        "x_test = np.reshape(x_test, (x_test.shape[0], x_test.shape[1], 1))\n",
        "\n",
        "\n",
        "predictions = model.predict(x_test)\n"
      ]
    },
    {
      "cell_type": "code",
      "source": [
        "predictions"
      ],
      "metadata": {
        "colab": {
          "base_uri": "https://localhost:8080/"
        },
        "id": "9eUWZP1MLUOv",
        "outputId": "2aba6536-bed5-4fcd-9395-e9c7c0dbd058"
      },
      "execution_count": null,
      "outputs": [
        {
          "output_type": "execute_result",
          "data": {
            "text/plain": [
              "array([[0.35975552],\n",
              "       [0.47208458],\n",
              "       [0.7853838 ],\n",
              "       ...,\n",
              "       [0.18061468],\n",
              "       [0.5118796 ],\n",
              "       [0.7841373 ]], dtype=float32)"
            ]
          },
          "metadata": {},
          "execution_count": 8
        }
      ]
    },
    {
      "cell_type": "code",
      "source": [
        "binary_predictions = (predictions > 0.5).astype(int)"
      ],
      "metadata": {
        "id": "bKxBRgddLc5H"
      },
      "execution_count": null,
      "outputs": []
    },
    {
      "cell_type": "code",
      "source": [
        "test_data = scaled_data[training_data_len - input_size:, :]\n",
        "\n",
        "x_test = []\n",
        "y_test = np.empty((0, 1))  # initialize y_test as an empty array\n",
        "\n",
        "for i in range(input_size, len(test_data)):\n",
        "    x_test.append(test_data[i-input_size:i, 0])\n",
        "    if test_data[i, 0] > test_data[i-1, 0]:\n",
        "        y_test = np.concatenate((y_test, np.array([[1]])), axis=0)\n",
        "    else:\n",
        "        y_test = np.concatenate((y_test, np.array([[0]])), axis=0)\n",
        "\n",
        "x_test = np.array(x_test)\n",
        "x_test = np.reshape(x_test, (x_test.shape[0], x_test.shape[1], 1))\n"
      ],
      "metadata": {
        "id": "fsWAY8qAO1J9"
      },
      "execution_count": null,
      "outputs": []
    },
    {
      "cell_type": "code",
      "source": [
        "y_test_binary = (y_test > 0.5).astype(int)"
      ],
      "metadata": {
        "id": "umvtHvESQbQJ"
      },
      "execution_count": null,
      "outputs": []
    },
    {
      "cell_type": "code",
      "source": [
        "y_test_binary"
      ],
      "metadata": {
        "colab": {
          "base_uri": "https://localhost:8080/"
        },
        "id": "dPjXmQk5RQMW",
        "outputId": "9214236e-1451-4782-84e1-bf085212ef29"
      },
      "execution_count": null,
      "outputs": [
        {
          "output_type": "execute_result",
          "data": {
            "text/plain": [
              "array([[0],\n",
              "       [0],\n",
              "       [1],\n",
              "       ...,\n",
              "       [0],\n",
              "       [0],\n",
              "       [1]])"
            ]
          },
          "metadata": {},
          "execution_count": 12
        }
      ]
    },
    {
      "cell_type": "code",
      "execution_count": null,
      "metadata": {
        "id": "Mvo2INihZMhk"
      },
      "outputs": [],
      "source": [
        "from sklearn.metrics import accuracy_score\n",
        "in_sample_acc_rw = accuracy_score(y_train[1:], y_train[:-1])\n",
        "out_sample_acc_rw = accuracy_score(y_test_binary[1:], y_test_binary[:-1])"
      ]
    },
    {
      "cell_type": "code",
      "source": [
        "in_sample_acc_rw"
      ],
      "metadata": {
        "colab": {
          "base_uri": "https://localhost:8080/"
        },
        "id": "RRk84Z0YQmd9",
        "outputId": "1cec2000-e37d-44a3-bc31-8af076a4cea1"
      },
      "execution_count": null,
      "outputs": [
        {
          "output_type": "execute_result",
          "data": {
            "text/plain": [
              "0.34517374517374516"
            ]
          },
          "metadata": {},
          "execution_count": 14
        }
      ]
    },
    {
      "cell_type": "code",
      "source": [
        "out_sample_acc_rw"
      ],
      "metadata": {
        "colab": {
          "base_uri": "https://localhost:8080/"
        },
        "id": "EgBZg7FiQrdT",
        "outputId": "f6af05a3-1715-46c5-8099-436efb47e263"
      },
      "execution_count": null,
      "outputs": [
        {
          "output_type": "execute_result",
          "data": {
            "text/plain": [
              "0.3248919085855466"
            ]
          },
          "metadata": {},
          "execution_count": 15
        }
      ]
    },
    {
      "cell_type": "code",
      "source": [
        "# In-sample accuracy\n",
        "y_train_pred = model.predict(x_train)\n",
        "y_train_pred_binary = (y_train_pred > 0.5).astype(int)\n",
        "in_sample_acc = accuracy_score(y_train[1:], y_train_pred_binary[:-1])\n",
        "\n",
        "# Out-of-sample accuracy\n",
        "y_test_pred = model.predict(x_test)\n",
        "y_test_pred_binary = (y_test_pred > 0.5).astype(int)\n",
        "y_test_binary = (y_test > 0.5).astype(int)\n",
        "out_sample_acc = accuracy_score(y_test_binary[1:], y_test_pred_binary[:-1])\n"
      ],
      "metadata": {
        "colab": {
          "base_uri": "https://localhost:8080/"
        },
        "id": "zkvMFF7FaqxW",
        "outputId": "e03dd7e2-a795-4746-b116-a916c8ff56e1"
      },
      "execution_count": null,
      "outputs": [
        {
          "output_type": "stream",
          "name": "stdout",
          "text": [
            "203/203 [==============================] - 0s 2ms/step\n",
            "51/51 [==============================] - 0s 2ms/step\n"
          ]
        }
      ]
    },
    {
      "cell_type": "code",
      "source": [
        "in_sample_acc"
      ],
      "metadata": {
        "colab": {
          "base_uri": "https://localhost:8080/"
        },
        "id": "fu7-QXAV8zYR",
        "outputId": "e33af058-202f-4fd1-d740-96a869fd83a1"
      },
      "execution_count": null,
      "outputs": [
        {
          "output_type": "execute_result",
          "data": {
            "text/plain": [
              "0.50996138996139"
            ]
          },
          "metadata": {},
          "execution_count": 17
        }
      ]
    },
    {
      "cell_type": "code",
      "source": [
        "out_sample_acc"
      ],
      "metadata": {
        "colab": {
          "base_uri": "https://localhost:8080/"
        },
        "id": "wweXBT2o81aH",
        "outputId": "ced9ddec-6124-424f-f630-a87fedf5e303"
      },
      "execution_count": null,
      "outputs": [
        {
          "output_type": "execute_result",
          "data": {
            "text/plain": [
              "0.47992588017294624"
            ]
          },
          "metadata": {},
          "execution_count": 18
        }
      ]
    },
    {
      "cell_type": "code",
      "execution_count": null,
      "metadata": {
        "id": "35O_7b3iX1cX",
        "colab": {
          "base_uri": "https://localhost:8080/",
          "height": 282
        },
        "outputId": "2a1acdf2-4ec3-468d-e92a-502a0a242560"
      },
      "outputs": [
        {
          "output_type": "execute_result",
          "data": {
            "text/plain": [
              "<BarContainer object of 4 artists>"
            ]
          },
          "metadata": {},
          "execution_count": 20
        },
        {
          "output_type": "display_data",
          "data": {
            "text/plain": [
              "<Figure size 432x288 with 1 Axes>"
            ],
            "image/png": "[encoded data removed]"
          },
          "metadata": {
            "needs_background": "light"
          }
        }
      ],
      "source": [
        "import matplotlib.pyplot as plt\n",
        "\n",
        "# plot bar chart\n",
        "plt.bar([\"IS\", \"IS-RW\", \"OOS\", \"OOS-RW\"], [in_sample_acc, in_sample_acc_rw, out_sample_acc, out_sample_acc_rw])\n"
      ]
    },
    {
      "cell_type": "markdown",
      "metadata": {
        "id": "bK_jyyEEtTUB"
      },
      "source": [
        "# 5.) Write an observation/conclusion about the graphs from Q4 and Q3"
      ]
    },
    {
      "cell_type": "markdown",
      "source": [
        "In my analysis above, I have the following:\n",
        "\n",
        "* in_sample_acc_rw: This is the in-sample accuracy of the random walk model, which is a simple model that predicts tomorrow's stock price to be the same as today's price. The value of this accuracy is 0.345, meaning that the random walk model correctly predicts the direction of the stock price change only about one-third of the time on the training data.\n",
        "\n",
        "* out_sample_acc_rw: This is the out-of-sample accuracy of the random walk model. The value of this accuracy is 0.325, meaning that the random walk model correctly predicts the direction of the stock price change only about one-third of the time on the test data.\n",
        "\n",
        "* in_sample_acc: This is the in-sample accuracy of the LSTM model, which is trained on the same data as the random walk model. The value of this accuracy is 0.510, meaning that the LSTM model correctly predicts the direction of the stock price change about half of the time on the training data. This is a significant improvement compared to the random walk model.\n",
        "\n",
        "* out_sample_acc: This is the out-of-sample accuracy of the LSTM model. The value of this accuracy is 0.480, meaning that the LSTM model correctly predicts the direction of the stock price change about 48% of the time on the test data. This is slightly lower than the in-sample accuracy of the LSTM model, which indicates some degree of overfitting.\n",
        "\n",
        "Overall, the LSTM model performs significantly better than the random walk model on both in-sample and out-of-sample data. However, the accuracy score of the LSTM model on the test data is still relatively low, indicating that there is room for improvement. Further analysis and fine-tuning of the model may be necessary to improve its performance."
      ],
      "metadata": {
        "id": "LV8Ab8LZ_GSr"
      }
    }
  ],
  "metadata": {
    "colab": {
      "provenance": []
    },
    "kernelspec": {
      "display_name": "Python 3 (ipykernel)",
      "language": "python",
      "name": "python3"
    },
    "language_info": {
      "codemirror_mode": {
        "name": "ipython",
        "version": 3
      },
      "file_extension": ".py",
      "mimetype": "text/x-python",
      "name": "python",
      "nbconvert_exporter": "python",
      "pygments_lexer": "ipython3",
      "version": "3.9.12"
    }
  },
  "nbformat": 4,
  "nbformat_minor": 0
}